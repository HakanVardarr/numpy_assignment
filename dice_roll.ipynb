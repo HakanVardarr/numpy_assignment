{
 "cells": [
  {
   "cell_type": "markdown",
   "metadata": {},
   "source": [
    "# Numpy Assignment\n"
   ]
  },
  {
   "cell_type": "markdown",
   "metadata": {},
   "source": [
    "Create a Python script that utilizes NumPy to simulate dice rolls,\n",
    "calculate probabilities, and perform basic statistical analysis.\n",
    "This project aims to demonstrate the use of NumPy for simulations and basic statistical computations\n"
   ]
  },
  {
   "cell_type": "markdown",
   "metadata": {},
   "source": [
    "### Imports\n"
   ]
  },
  {
   "cell_type": "code",
   "execution_count": 406,
   "metadata": {},
   "outputs": [],
   "source": [
    "import numpy as np\n",
    "import matplotlib.pyplot as plt"
   ]
  },
  {
   "cell_type": "code",
   "execution_count": 407,
   "metadata": {},
   "outputs": [],
   "source": [
    "class Dice:\n",
    "    def __init__(self, number_of_rolls: int):\n",
    "        self.number_of_rolls = number_of_rolls\n",
    "        self.rolls = np.random.randint(1, 7, size=self.number_of_rolls)\n",
    "\n",
    "    def calculate_probabilities(self):\n",
    "        probabilities = {}\n",
    "        for num in self.rolls:\n",
    "            probabilities[num] = probabilities.get(num, 0) + 1\n",
    "        for key in probabilities:\n",
    "            probabilities[key] /= self.number_of_rolls\n",
    "        return dict(sorted(probabilities.items()))"
   ]
  },
  {
   "cell_type": "code",
   "execution_count": 408,
   "metadata": {},
   "outputs": [],
   "source": [
    "number_of_rolls = 1_000_000\n",
    "\n",
    "dice = Dice(number_of_rolls)"
   ]
  },
  {
   "cell_type": "code",
   "execution_count": 409,
   "metadata": {},
   "outputs": [
    {
     "data": {
      "text/plain": [
       "array([6, 4, 6, ..., 1, 6, 3])"
      ]
     },
     "execution_count": 409,
     "metadata": {},
     "output_type": "execute_result"
    }
   ],
   "source": [
    "dice.rolls"
   ]
  },
  {
   "cell_type": "markdown",
   "metadata": {},
   "source": [
    "### Probabilities\n"
   ]
  },
  {
   "cell_type": "code",
   "execution_count": 410,
   "metadata": {},
   "outputs": [
    {
     "data": {
      "text/plain": [
       "{1: 0.167222, 2: 0.166719, 3: 0.16603, 4: 0.166298, 5: 0.166547, 6: 0.167184}"
      ]
     },
     "execution_count": 410,
     "metadata": {},
     "output_type": "execute_result"
    }
   ],
   "source": [
    "probabilities = dice.calculate_probabilities()\n",
    "probabilities"
   ]
  },
  {
   "cell_type": "markdown",
   "metadata": {},
   "source": [
    "### Basic Statistical Analysis\n"
   ]
  },
  {
   "cell_type": "code",
   "execution_count": 411,
   "metadata": {},
   "outputs": [
    {
     "name": "stdout",
     "output_type": "stream",
     "text": [
      "Standart Deviation: 1.7096689597811032\n",
      "Mean: 3.499781\n",
      "Median: 4.0\n",
      "Most Common Number: 1\n"
     ]
    }
   ],
   "source": [
    "print(f\"Standart Deviation: {np.std(dice.rolls)}\")\n",
    "print(f\"Mean: {np.mean(dice.rolls)}\")\n",
    "print(f\"Median: {np.median(dice.rolls)}\")\n",
    "print(f\"Most Common Number: {max(probabilities, key=probabilities.get)}\")"
   ]
  },
  {
   "cell_type": "markdown",
   "metadata": {},
   "source": [
    "### Plot\n"
   ]
  },
  {
   "cell_type": "code",
   "execution_count": 412,
   "metadata": {},
   "outputs": [
    {
     "data": {
      "image/png": "[encoded data removed]",
      "text/plain": [
       "<Figure size 640x480 with 1 Axes>"
      ]
     },
     "metadata": {},
     "output_type": "display_data"
    }
   ],
   "source": [
    "plt.bar(probabilities.keys(), probabilities.values(), color=\"black\")\n",
    "plt.xlabel(\"Number\")\n",
    "plt.ylabel(\"Probability\")\n",
    "plt.title(\"Dice Roll Simulation\")\n",
    "plt.show()"
   ]
  }
 ],
 "metadata": {
  "kernelspec": {
   "display_name": "Python 3",
   "language": "python",
   "name": "python3"
  },
  "language_info": {
   "codemirror_mode": {
    "name": "ipython",
    "version": 3
   },
   "file_extension": ".py",
   "mimetype": "text/x-python",
   "name": "python",
   "nbconvert_exporter": "python",
   "pygments_lexer": "ipython3",
   "version": "3.10.12"
  }
 },
 "nbformat": 4,
 "nbformat_minor": 2
}
